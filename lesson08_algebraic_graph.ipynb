{
 "metadata": {
  "name": "",
  "signature": "sha256:b8bdbde11887860753bd6281a56bcc6537ae7baedfad2795530b54e2a3b75594"
 },
 "nbformat": 3,
 "nbformat_minor": 0,
 "worksheets": [
  {
   "cells": [
    {
     "cell_type": "heading",
     "level": 1,
     "metadata": {},
     "source": [
      "Lesson 08: Algebraic Graphy Theory"
     ]
    },
    {
     "cell_type": "markdown",
     "metadata": {},
     "source": [
      "Let\u2019s talk a bit about graphs\u2026 Graphs are composed of *vertices* (the nodes in the graph) and *edges* (the arcs between nodes). We can construct a special kind of matrix, called an *adjacency matrix*, which has a row for each vertex and a column for each vertex. The elements of an adjacency matrix have a `1` if an edge exists between the respective pair of vertices, and a `0` otherwise."
     ]
    },
    {
     "cell_type": "markdown",
     "metadata": {},
     "source": [
      "Check out [An Introduction to Algebraic Graph Theory](http://buzzard.ups.edu/talks/beezer-2009-pacific-agt.pdf) by Rob Beezer, starting on slide 9. There are four vertices in the graph `[u, v, w, x]` and an adjacency matrix defined as:"
     ]
    },
    {
     "cell_type": "markdown",
     "metadata": {},
     "source": [
      "\\begin{align*} \\textbf{A} = \\begin{bmatrix} 0 & 1 & 0 & 1 \\\\ 1 & 0 & 1 & 1 \\\\ 0 & 1 & 0 & 1 \\\\ 1 & 1 & 1 & 0 \\\\ \\end{bmatrix} \\end{align*}"
     ]
    },
    {
     "cell_type": "markdown",
     "metadata": {},
     "source": [
      "An adjacency matrix has certain properties. For example, we know that it is symmetric and that it has real eigenvalues. Using the `eig` method in NumPy we can find the eigenvalues and eigenvectors \u2013 you know the routine:\n"
     ]
    },
    {
     "cell_type": "code",
     "collapsed": false,
     "input": [
      "import numpy as np\n",
      "\n",
      "A = np.array([0, 1, 0, 1, 1, 0, 1, 1, 0, 1, 0, 1, 1, 1, 0, 1]).reshape(4, 4)\n",
      "eig = np.linalg.eig(A)\n",
      "\n",
      "print A\n",
      "print eig"
     ],
     "language": "python",
     "metadata": {},
     "outputs": [
      {
       "ename": "SyntaxError",
       "evalue": "invalid syntax (<ipython-input-1-93c47e07d16b>, line 6)",
       "output_type": "pyerr",
       "traceback": [
        "\u001b[1;36m  File \u001b[1;32m\"<ipython-input-1-93c47e07d16b>\"\u001b[1;36m, line \u001b[1;32m6\u001b[0m\n\u001b[1;33m    print A\u001b[0m\n\u001b[1;37m          ^\u001b[0m\n\u001b[1;31mSyntaxError\u001b[0m\u001b[1;31m:\u001b[0m invalid syntax\n"
       ]
      }
     ],
     "prompt_number": 1
    },
    {
     "cell_type": "markdown",
     "metadata": {},
     "source": [
      "Great, we can haz eigenvalues. Keep in mind that the eigenvalues do not define the graphs \u2013 different graphs could have the same eigenvalues. Even so, we can put those eigenvalues to good use in measuring graphs. For example, a [graph diameter](http://mathworld.wolfram.com/GraphDiameter.html) is defined as the \u201clongest shortest path\u201d \u2013 in other words, the max number of vertices whic